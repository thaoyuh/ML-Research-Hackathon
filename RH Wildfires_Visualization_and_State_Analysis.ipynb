{
 "cells":[
  {
   "cell_type":"markdown",
   "source":[
    "# Research Hackathon project on wildfires in U.S.A.\n",
    "## Setup (for now):\n",
    "- **Research Question**: ...\n",
    "Motivated by an introduction, and possibly a literature review.\n",
    "- **Data description**\n",
    "- **Preliminary analysis**: e.g. where do wildfires frequently occur and how are the sizes of fire distributed over the US? what seasonality patterns are in the wildfire frequencies? are there already relationships of interest (depends on the research question) visible without any ML\/econometric model? etc.\n",
    "- **Analysis**: targetted at research question, so t.b.d.\n",
    "- **Conclusion**: link intro + research question to findings of (preliminary) analysis \n",
    "\n",
    "## Possible research questions:\n",
    "- Can we build a pipeline to forecast the frequency, size and location of wildfires? We can motivate this using central fire brigade allocation for instance.\n",
    "- How are extreme wildfires distributed? Motivated by the fact that they occur more often now, and we want to help institutions prevent large damages, we want to give inference on the extreme wildfires.\n",
    "- OR approach: can we build an ML pipeline to model the arrivals (discoveries) and departures (containments) of wildfires?"
   ],
   "attachments":{
    
   },
   "metadata":{
    "datalore":{
     "node_id":"qBz4icSt4FKVFHcRI09u3R",
     "type":"MD",
     "hide_input_from_viewers":false,
     "hide_output_from_viewers":false,
     "report_properties":{
      
     }
    }
   }
  },
  {
   "cell_type":"code",
   "source":[
    "# Imports\n",
    "import pandas as pd\n",
    "import matplotlib.pyplot as plt\n",
    "import numpy as np\n",
    "import seaborn as sns\n",
    "from plotly.offline import iplot\n",
    "import plotly.graph_objects as go\n",
    "import plotly.io as pio\n",
    "import statsmodels.formula.api as sm\n",
    "import sklearn as skl"
   ],
   "execution_count":1,
   "outputs":[
    
   ],
   "metadata":{
    "datalore":{
     "node_id":"Cfm17qPih29prWA5rkRF8r",
     "type":"CODE",
     "hide_input_from_viewers":false,
     "hide_output_from_viewers":false,
     "report_properties":{
      
     }
    }
   }
  },
  {
   "cell_type":"markdown",
   "source":[
    "# **Load wildfire data**\n",
    "SQL data has been loaded in Spyder. The data of interest has been exported to a CSV-file. See snippet below. This CSV-file is imported here."
   ],
   "attachments":{
    
   },
   "metadata":{
    "datalore":{
     "node_id":"nuaDJ1m5AjicX0wJ9SkfTs",
     "type":"MD",
     "hide_input_from_viewers":false,
     "hide_output_from_viewers":false,
     "report_properties":{
      
     }
    }
   }
  },
  {
   "cell_type":"code",
   "source":[
    "from IPython.display import Image\n",
    "Image(filename='code_load_data.png')"
   ],
   "execution_count":2,
   "outputs":[
    {
     "ename":"FileNotFoundError",
     "evalue":"FileNotFoundError: [Errno 2] No such file or directory: 'code_load_data.png'",
     "traceback":[
      "\u001b[0;31m---------------------------------------------------------------------------",
      "Traceback (most recent call last)",
      "    at line 2 in <module>",
      "    at line 1231 in __init__(self, data, url, filename, format, embed, width, height, retina, unconfined, metadata)",
      "    at line 637 in __init__(self, data, url, filename, metadata)",
      "    at line 1263 in reload(self)",
      "    at line 662 in reload(self)",
      "FileNotFoundError: [Errno 2] No such file or directory: 'code_load_data.png'"
     ],
     "output_type":"error"
    }
   ],
   "metadata":{
    "datalore":{
     "node_id":"9PQQq35zrelwjNuUBahHud",
     "type":"CODE",
     "hide_input_from_viewers":false,
     "hide_output_from_viewers":false,
     "report_properties":{
      
     }
    }
   }
  },
  {
   "cell_type":"code",
   "source":[
    "df = pd.read_csv('wildfire_data.csv')\n",
    "print('Number of fires:', df.shape[0])\n",
    "df.head()"
   ],
   "execution_count":3,
   "outputs":[
    {
     "ename":"FileNotFoundError",
     "evalue":"FileNotFoundError: [Errno 2] No such file or directory: 'wildfire_data.csv'",
     "traceback":[
      "\u001b[0;31m---------------------------------------------------------------------------",
      "Traceback (most recent call last)",
      "    at line 1 in <module>",
      "    at line 311 in wrapper(*args, **kwargs)",
      "    at line 586 in read_csv(filepath_or_buffer, sep, delimiter, header, names, index_col, usecols, squeeze, prefix, mangle_dupe_cols, dtype, engine, converters, true_values, false_values, skipinitialspace, skiprows, skipfooter, nrows, na_values, keep_default_na, na_filter, verbose, skip_blank_lines, parse_dates, infer_datetime_format, keep_date_col, date_parser, dayfirst, cache_dates, iterator, chunksize, compression, thousands, decimal, lineterminator, quotechar, quoting, doublequote, escapechar, comment, encoding, encoding_errors, dialect, error_bad_lines, warn_bad_lines, on_bad_lines, delim_whitespace, low_memory, memory_map, float_precision, storage_options)",
      "    at line 482 in _read(filepath_or_buffer, kwds)",
      "    at line 811 in __init__(self, f, engine, **kwds)",
      "    at line 1040 in _make_engine(self, engine)",
      "    at line 51 in __init__(self, src, **kwds)",
      "    at line 222 in _open_handles(self, src, kwds)",
      "    at line 702 in get_handle(path_or_buf, mode, encoding, compression, memory_map, is_text, errors, storage_options)",
      "FileNotFoundError: [Errno 2] No such file or directory: 'wildfire_data.csv'"
     ],
     "output_type":"error"
    }
   ],
   "metadata":{
    "datalore":{
     "node_id":"9HtfvFggtsD9dMB1DPuPNq",
     "type":"CODE",
     "hide_input_from_viewers":false,
     "hide_output_from_viewers":false,
     "report_properties":{
      
     }
    }
   }
  },
  {
   "cell_type":"markdown",
   "source":[
    "# **Climate features**"
   ],
   "attachments":{
    
   },
   "metadata":{
    "datalore":{
     "node_id":"4uVON0xJgR0PPz14nSGSd3",
     "type":"MD",
     "hide_input_from_viewers":false,
     "hide_output_from_viewers":false,
     "report_properties":{
      
     }
    }
   }
  },
  {
   "cell_type":"code",
   "source":[
    "df = pd.read_csv('wildfire_data_with_climate.csv')\n",
    "print('Number of fires:', df.shape[0])\n",
    "df.head()"
   ],
   "execution_count":null,
   "outputs":[
    {
     "name":"stdout",
     "text":[
      "Number of fires: 892007\n",
      "\n",
      "\n"
     ],
     "output_type":"stream"
    },
    {
     "name":"stderr",
     "text":[
      "\n",
      "\/var\/folders\/xn\/gg8ygwfs2gngfftz6t8k9wm80000gn\/T\/ipykernel_3519\/3065024453.py:1: DtypeWarning:\n",
      "\n",
      "Columns (7) have mixed types. Specify dtype option on import or set low_memory=False.\n",
      "\n",
      "\n"
     ],
     "output_type":"stream"
    },
    {
     "data":{
      "text\/html":[
       "<div>\n",
       "<style scoped>\n",
       "    .dataframe tbody tr th:only-of-type {\n",
       "        vertical-align: middle;\n",
       "    }\n",
       "\n",
       "    .dataframe tbody tr th {\n",
       "        vertical-align: top;\n",
       "    }\n",
       "\n",
       "    .dataframe thead th {\n",
       "        text-align: right;\n",
       "    }\n",
       "<\/style>\n",
       "<table border=\"1\" class=\"dataframe\">\n",
       "  <thead>\n",
       "    <tr style=\"text-align: right;\">\n",
       "      <th><\/th>\n",
       "      <th>Unnamed: 0<\/th>\n",
       "      <th>FIRE_YEAR<\/th>\n",
       "      <th>STAT_CAUSE_DESCR<\/th>\n",
       "      <th>LATITUDE<\/th>\n",
       "      <th>LONGITUDE<\/th>\n",
       "      <th>STATE<\/th>\n",
       "      <th>FIPS_CODE<\/th>\n",
       "      <th>FIPS_NAME<\/th>\n",
       "      <th>DISCOVERY_DATE<\/th>\n",
       "      <th>DISCOVERY_DOY<\/th>\n",
       "      <th>...<\/th>\n",
       "      <th>DISCOVERY_TIME<\/th>\n",
       "      <th>CONT_TIME<\/th>\n",
       "      <th>tmp<\/th>\n",
       "      <th>pcp<\/th>\n",
       "      <th>pdsi<\/th>\n",
       "      <th>DATE<\/th>\n",
       "      <th>MONTH<\/th>\n",
       "      <th>tmp_monthly<\/th>\n",
       "      <th>pcp_monthly<\/th>\n",
       "      <th>pdsi_monthly<\/th>\n",
       "    <\/tr>\n",
       "  <\/thead>\n",
       "  <tbody>\n",
       "    <tr>\n",
       "      <th>0<\/th>\n",
       "      <td>0<\/td>\n",
       "      <td>2005<\/td>\n",
       "      <td>Miscellaneous<\/td>\n",
       "      <td>40.036944<\/td>\n",
       "      <td>-121.005833<\/td>\n",
       "      <td>CA<\/td>\n",
       "      <td>63.0<\/td>\n",
       "      <td>Plumas<\/td>\n",
       "      <td>2453403.5<\/td>\n",
       "      <td>33<\/td>\n",
       "      <td>...<\/td>\n",
       "      <td>13.00<\/td>\n",
       "      <td>17.30<\/td>\n",
       "      <td>59.736364<\/td>\n",
       "      <td>2.026364<\/td>\n",
       "      <td>3.050000<\/td>\n",
       "      <td>2005-02-02<\/td>\n",
       "      <td>2<\/td>\n",
       "      <td>47.1<\/td>\n",
       "      <td>4.03<\/td>\n",
       "      <td>2.28<\/td>\n",
       "    <\/tr>\n",
       "    <tr>\n",
       "      <th>1<\/th>\n",
       "      <td>1<\/td>\n",
       "      <td>2004<\/td>\n",
       "      <td>Lightning<\/td>\n",
       "      <td>38.933056<\/td>\n",
       "      <td>-120.404444<\/td>\n",
       "      <td>CA<\/td>\n",
       "      <td>61.0<\/td>\n",
       "      <td>Placer<\/td>\n",
       "      <td>2453137.5<\/td>\n",
       "      <td>133<\/td>\n",
       "      <td>...<\/td>\n",
       "      <td>8.45<\/td>\n",
       "      <td>15.30<\/td>\n",
       "      <td>60.154545<\/td>\n",
       "      <td>1.477273<\/td>\n",
       "      <td>-1.234545<\/td>\n",
       "      <td>2004-05-12<\/td>\n",
       "      <td>5<\/td>\n",
       "      <td>63.2<\/td>\n",
       "      <td>0.45<\/td>\n",
       "      <td>-2.15<\/td>\n",
       "    <\/tr>\n",
       "    <tr>\n",
       "      <th>2<\/th>\n",
       "      <td>2<\/td>\n",
       "      <td>2004<\/td>\n",
       "      <td>Debris Burning<\/td>\n",
       "      <td>38.984167<\/td>\n",
       "      <td>-120.735556<\/td>\n",
       "      <td>CA<\/td>\n",
       "      <td>17.0<\/td>\n",
       "      <td>El Dorado<\/td>\n",
       "      <td>2453156.5<\/td>\n",
       "      <td>152<\/td>\n",
       "      <td>...<\/td>\n",
       "      <td>19.21<\/td>\n",
       "      <td>20.24<\/td>\n",
       "      <td>60.154545<\/td>\n",
       "      <td>1.477273<\/td>\n",
       "      <td>-1.234545<\/td>\n",
       "      <td>2004-05-31<\/td>\n",
       "      <td>5<\/td>\n",
       "      <td>63.2<\/td>\n",
       "      <td>0.45<\/td>\n",
       "      <td>-2.15<\/td>\n",
       "    <\/tr>\n",
       "    <tr>\n",
       "      <th>3<\/th>\n",
       "      <td>3<\/td>\n",
       "      <td>2004<\/td>\n",
       "      <td>Lightning<\/td>\n",
       "      <td>38.559167<\/td>\n",
       "      <td>-119.913333<\/td>\n",
       "      <td>CA<\/td>\n",
       "      <td>3.0<\/td>\n",
       "      <td>Alpine<\/td>\n",
       "      <td>2453184.5<\/td>\n",
       "      <td>180<\/td>\n",
       "      <td>...<\/td>\n",
       "      <td>16.00<\/td>\n",
       "      <td>14.00<\/td>\n",
       "      <td>60.154545<\/td>\n",
       "      <td>1.477273<\/td>\n",
       "      <td>-1.234545<\/td>\n",
       "      <td>2004-06-28<\/td>\n",
       "      <td>6<\/td>\n",
       "      <td>70.4<\/td>\n",
       "      <td>0.08<\/td>\n",
       "      <td>-2.80<\/td>\n",
       "    <\/tr>\n",
       "    <tr>\n",
       "      <th>4<\/th>\n",
       "      <td>4<\/td>\n",
       "      <td>2004<\/td>\n",
       "      <td>Lightning<\/td>\n",
       "      <td>38.559167<\/td>\n",
       "      <td>-119.933056<\/td>\n",
       "      <td>CA<\/td>\n",
       "      <td>3.0<\/td>\n",
       "      <td>Alpine<\/td>\n",
       "      <td>2453184.5<\/td>\n",
       "      <td>180<\/td>\n",
       "      <td>...<\/td>\n",
       "      <td>16.00<\/td>\n",
       "      <td>12.00<\/td>\n",
       "      <td>60.154545<\/td>\n",
       "      <td>1.477273<\/td>\n",
       "      <td>-1.234545<\/td>\n",
       "      <td>2004-06-28<\/td>\n",
       "      <td>6<\/td>\n",
       "      <td>70.4<\/td>\n",
       "      <td>0.08<\/td>\n",
       "      <td>-2.80<\/td>\n",
       "    <\/tr>\n",
       "  <\/tbody>\n",
       "<\/table>\n",
       "<p>5 rows × 24 columns<\/p>\n",
       "<\/div>"
      ]
     },
     "metadata":{
      
     },
     "output_type":"display_data"
    },
    {
     "data":{
      "text\/plain":[
       "   Unnamed: 0  FIRE_YEAR STAT_CAUSE_DESCR   LATITUDE   LONGITUDE STATE  \\\n",
       "0           0       2005    Miscellaneous  40.036944 -121.005833    CA   \n",
       "1           1       2004        Lightning  38.933056 -120.404444    CA   \n",
       "2           2       2004   Debris Burning  38.984167 -120.735556    CA   \n",
       "3           3       2004        Lightning  38.559167 -119.913333    CA   \n",
       "4           4       2004        Lightning  38.559167 -119.933056    CA   \n",
       "\n",
       "   FIPS_CODE  FIPS_NAME  DISCOVERY_DATE  DISCOVERY_DOY  ...  DISCOVERY_TIME  \\\n",
       "0       63.0     Plumas       2453403.5             33  ...           13.00   \n",
       "1       61.0     Placer       2453137.5            133  ...            8.45   \n",
       "2       17.0  El Dorado       2453156.5            152  ...           19.21   \n",
       "3        3.0     Alpine       2453184.5            180  ...           16.00   \n",
       "4        3.0     Alpine       2453184.5            180  ...           16.00   \n",
       "\n",
       "   CONT_TIME        tmp       pcp      pdsi        DATE  MONTH  tmp_monthly  \\\n",
       "0      17.30  59.736364  2.026364  3.050000  2005-02-02      2         47.1   \n",
       "1      15.30  60.154545  1.477273 -1.234545  2004-05-12      5         63.2   \n",
       "2      20.24  60.154545  1.477273 -1.234545  2004-05-31      5         63.2   \n",
       "3      14.00  60.154545  1.477273 -1.234545  2004-06-28      6         70.4   \n",
       "4      12.00  60.154545  1.477273 -1.234545  2004-06-28      6         70.4   \n",
       "\n",
       "   pcp_monthly pdsi_monthly  \n",
       "0         4.03         2.28  \n",
       "1         0.45        -2.15  \n",
       "2         0.45        -2.15  \n",
       "3         0.08        -2.80  \n",
       "4         0.08        -2.80  \n",
       "\n",
       "[5 rows x 24 columns]"
      ]
     },
     "metadata":{
      
     },
     "output_type":"display_data"
    }
   ],
   "metadata":{
    "datalore":{
     "node_id":"AroWLdEG1F3Fqbhn6cw2Pn",
     "type":"CODE",
     "hide_input_from_viewers":false,
     "hide_output_from_viewers":false,
     "report_properties":{
      
     }
    }
   }
  },
  {
   "cell_type":"markdown",
   "source":[
    "The feature matching is performed in my local server because of unstable connection here. See 'ClimateMatch.py' for the code.\n",
    "\n",
    "**Six new features are added:**\n",
    "- 'tmp_monthly': the average temprature of the month in the state when and where the fire happened.\n",
    "- 'pcp_monthly': the average precipitition of the month in the state when and where the fire happened.\n",
    "- 'pdsi_monthly': the Palmer Drought Severity Index of the month in the state when and where the fire happened.\n",
    "- 'tmp_yearly': the average temprature of the year in the state when and where the fire happened.\n",
    "- 'pcp_monthly': the average precipitition of the year in the state when and where the fire happened.\n",
    "- 'pdsi_monthly': the average Palmer Drought Severity Index of the year in the state when and where the fire happened.\n",
    "\n",
    "*Note that the missing values are marked as -99.99.*\n",
    "\n",
    "**Data source:** \n",
    "\n",
    "Vose, R. S., Applequist, S., Squires, M., Durre, I., Menne, M. J., Williams, C. N., Jr., Fenimore, C., Gleason, K., & Arndt, D. (2014). Improved Historical Temperature and Precipitation Time Series for U.S. Climate Divisions, Journal of Applied Meteorology and Climatology, 53(5), 1232-1251. Retrieved Feb 6, 2023, from https:\/\/journals.ametsoc.org\/view\/journals\/apme\/53\/5\/jamc-d-13-0248.1.xml\n",
    "\n",
    "Readme file of the dataset: https:\/\/www.ncei.noaa.gov\/pub\/data\/cirs\/climdiv\/state-readme.txt\n",
    "\n",
    "\n",
    "Data file used in the the following analysis: 'climdiv-pcpnst-v1.0.0-20230106.txt', 'climdiv-pdsist-v1.0.0-20230106.txt', and 'climdiv-tmpcst-v1.0.0-20230106.txt'"
   ],
   "attachments":{
    
   },
   "metadata":{
    "datalore":{
     "node_id":"W6lhuNZaNCQrxdsIGDYYIU",
     "type":"MD",
     "hide_input_from_viewers":false,
     "hide_output_from_viewers":false,
     "report_properties":{
      
     }
    }
   }
  },
  {
   "cell_type":"code",
   "source":[
    "# we can use the discovery time to investigate whether the fire army has improved (e.g. did the discovery time decreases?)\n",
    "\n",
    "lDAY_TO_CONT=[]\n",
    "lHOUR_TO_CONT = []\n",
    "for i in df.index:\n",
    "    vDay2cont = df.loc[i,'CONT_DATE']-df.loc[i,'DISCOVERY_DATE']\n",
    "    vHour2cont = (24 - df.loc[i,'DISCOVERY_TIME']) + (vDay2cont-1)*24 + df.loc[i,'CONT_TIME']\n",
    "    lDAY_TO_CONT.append(round(vDay2cont))\n",
    "    lHOUR_TO_CONT.append(round(vHour2cont)) # this also rounds it to full hours, may be relaxed\n",
    "df['DAY_TO_CONT'] = lDAY_TO_CONT\n",
    "df['HOUR_TO_CONT'] = lHOUR_TO_CONT\n",
    "# df = df[df['DAY_TO_CONT']>0]\n",
    "\n",
    "# get frequency of wildfires for each year\n",
    "years = df['FIRE_YEAR'].unique()\n",
    "years.sort()\n",
    "freqs = []\n",
    "for year in years:\n",
    "    freq = float(df['FIRE_YEAR'][df['FIRE_YEAR'] == year].count() \/ 365)\n",
    "    freqs.append(freq)\n",
    "    # print(f'Frequency: {year} -> ', freq)\n",
    "    \n",
    "freqs_dict = {'year': years, 'frequency': freqs}\n",
    "df_freq = pd.DataFrame(data=freqs_dict)\n",
    "\n",
    "# get dates of discovery in normal date format\n",
    "df['DATE'] = pd.to_datetime(df['DISCOVERY_DATE'], unit='D', origin='julian')"
   ],
   "execution_count":null,
   "outputs":[
    
   ],
   "metadata":{
    "datalore":{
     "node_id":"Rg5MioJfVAlMkHYMLmgwCH",
     "type":"CODE",
     "hide_input_from_viewers":false,
     "hide_output_from_viewers":false,
     "report_properties":{
      
     }
    }
   }
  },
  {
   "cell_type":"code",
   "source":[
    "df['FIRE_SIZE_CLASS_NUM'] = [ord(x) - 64 for x in df.FIRE_SIZE_CLASS]\n",
    "df_truncated_day = df[df.DAY_TO_CONT>0]"
   ],
   "execution_count":null,
   "outputs":[
    {
     "name":"stdout",
     "text":[
      "                            OLS Regression Results                            \n",
      "==============================================================================\n",
      "Dep. Variable:            DAY_TO_CONT   R-squared:                       0.022\n",
      "Model:                            OLS   Adj. R-squared:                  0.022\n",
      "Method:                 Least Squares   F-statistic:                     1263.\n",
      "Date:                Tue, 07 Feb 2023   Prob (F-statistic):               0.00\n",
      "Time:                        16:45:54   Log-Likelihood:            -8.2789e+05\n",
      "No. Observations:              170956   AIC:                         1.656e+06\n",
      "Df Residuals:                  170952   BIC:                         1.656e+06\n",
      "Df Model:                           3                                         \n",
      "Covariance Type:            nonrobust                                         \n",
      "=======================================================================================\n",
      "                          coef    std err          t      P>|t|      [0.025      0.975]\n",
      "---------------------------------------------------------------------------------------\n",
      "Intercept              -5.9048      0.611     -9.668      0.000      -7.102      -4.708\n",
      "LONGITUDE               0.1623      0.006     26.397      0.000       0.150       0.174\n",
      "LATITUDE                0.6230      0.014     44.528      0.000       0.596       0.650\n",
      "FIRE_SIZE_CLASS_NUM     2.2857      0.053     42.790      0.000       2.181       2.390\n",
      "==============================================================================\n",
      "Omnibus:                   582102.042   Durbin-Watson:                   1.672\n",
      "Prob(Omnibus):                  0.000   Jarque-Bera (JB):     306316765308.578\n",
      "Skew:                          62.565   Prob(JB):                         0.00\n",
      "Kurtosis:                    6559.465   Cond. No.                         965.\n",
      "==============================================================================\n",
      "\n",
      "Notes:\n",
      "[1] Standard Errors assume that the covariance matrix of the errors is correctly specified.\n"
     ],
     "output_type":"stream"
    }
   ],
   "metadata":{
    "datalore":{
     "node_id":"rH790HXUMlTeKPeW8DB76N",
     "type":"CODE",
     "hide_input_from_viewers":false,
     "hide_output_from_viewers":false,
     "report_properties":{
      
     }
    }
   }
  },
  {
   "cell_type":"markdown",
   "source":[
    "## ML Classification"
   ],
   "attachments":{
    
   },
   "metadata":{
    "datalore":{
     "node_id":"ChZ4pKf4t1CpqXQxMJHfxf",
     "type":"MD",
     "hide_input_from_viewers":false,
     "hide_output_from_viewers":false,
     "report_properties":{
      
     }
    }
   }
  },
  {
   "cell_type":"code",
   "source":[
    "## for plotting\n",
    "import matplotlib.pyplot as plt\n",
    "import seaborn as sns\n",
    "## for statistical tests\n",
    "import scipy\n",
    "import statsmodels.formula.api as smf\n",
    "import statsmodels.api as sm\n",
    "## for machine learning\n",
    "from sklearn import model_selection, preprocessing, feature_selection, ensemble, linear_model, metrics, decomposition\n",
    "from sklearn.model_selection import train_test_split\n",
    "from sklearn import metrics\n",
    "from sklearn.ensemble import RandomForestClassifier\n",
    "from sklearn.preprocessing import LabelEncoder\n",
    "\n",
    "## for explainer\n",
    "#from lime import lime_tabular"
   ],
   "execution_count":null,
   "outputs":[
    
   ],
   "metadata":{
    "datalore":{
     "node_id":"8UXMArcO1jAy0IjTXp8wt7",
     "type":"CODE",
     "hide_input_from_viewers":false,
     "hide_output_from_viewers":false,
     "report_properties":{
      
     }
    }
   }
  },
  {
   "cell_type":"code",
   "source":[
    "# Create dummy variable to predict\n",
    "dThreshold = 5\n",
    "df['Y'] = (df.HOUR_TO_CONT >= dThreshold)*1\n",
    "\n",
    "# Create dummy variables for cause of fire\n",
    "dfDummy = pd.get_dummies(df['STAT_CAUSE_DESCR']) \n",
    "le = LabelEncoder()\n",
    "dfState = pd.Series(le.fit_transform(df.STATE), name='State')\n",
    "\n",
    "# Get X and y variables\n",
    "mX = df[[\"LATITUDE\",'LONGITUDE','FIRE_SIZE_CLASS_NUM', 'DISCOVERY_DOY', 'FIRE_YEAR','tmp_monthly','pcp_monthly','pdsi_monthly',\n",
    "         'pcp_monthly','pdsi_monthly']]\n",
    "mX = pd.concat([mX, dfDummy, dfState], axis=1)   \n",
    "feature_names = mX.columns\n",
    "vY = df[['Y']]\n",
    "# vY = df[['DAY_TO_CONT']]\n",
    "\n",
    "mX = mX.iloc[:10000,:] # Why this?\n",
    "vY = vY.iloc[:10000]\n",
    "\n",
    "# remove trend\n",
    "indices = np.arange(len(vY))\n",
    "np.random.shuffle(indices)\n",
    "mX = mX.iloc[indices,:]\n",
    "vY = vY.iloc[indices]\n",
    "\n",
    "# Create train-test set\n",
    "X_train, X_validation, Y_train, Y_validation = train_test_split(mX, vY, test_size=0.25, random_state=1)\n",
    "\n",
    "# reformat\n",
    "X_train = X_train.values\n",
    "y_train = Y_train.values.reshape(-1,)\n",
    "X_test = X_validation.values\n",
    "y_test = Y_validation.values"
   ],
   "execution_count":null,
   "outputs":[
    
   ],
   "metadata":{
    "datalore":{
     "node_id":"iQUI3dXohYAUduIJBLrwHq",
     "type":"CODE",
     "hide_input_from_viewers":false,
     "hide_output_from_viewers":false,
     "report_properties":{
      
     }
    }
   }
  },
  {
   "cell_type":"markdown",
   "source":[
    "## Simple Logistic Regressor (baseline model)"
   ],
   "attachments":{
    
   },
   "metadata":{
    "datalore":{
     "node_id":"fQ8X3M4DGb1lRznz2NYhhs",
     "type":"MD",
     "hide_input_from_viewers":false,
     "hide_output_from_viewers":false,
     "report_properties":{
      
     }
    }
   }
  },
  {
   "cell_type":"code",
   "source":[
    "# evaluate a logistic regression model using k-fold cross-validation\n",
    "from numpy import mean\n",
    "from numpy import std\n",
    "from sklearn.model_selection import KFold\n",
    "from sklearn.model_selection import cross_val_score\n",
    "from sklearn.linear_model import LogisticRegression\n",
    "\n",
    "# prepare the cross-validation procedure\n",
    "cv = KFold(n_splits=10, random_state=1, shuffle=True)\n",
    "# create model\n",
    "model = LogisticRegression()\n",
    "# evaluate model\n",
    "scores = cross_val_score(model, X_train, y_train, scoring='accuracy', cv=cv, n_jobs=-1)\n",
    "# report performance\n",
    "print('Accuracy: %.3f (%.3f)' % (mean(scores), std(scores)))\n"
   ],
   "execution_count":null,
   "outputs":[
    {
     "name":"stdout",
     "text":[
      "Accuracy: 0.643 (0.032)\n",
      "\n"
     ],
     "output_type":"stream"
    },
    {
     "name":"stderr",
     "text":[
      "\n",
      "\/opt\/anaconda3\/lib\/python3.9\/site-packages\/sklearn\/linear_model\/_logistic.py:444: ConvergenceWarning: lbfgs failed to converge (status=1):\n",
      "STOP: TOTAL NO. of ITERATIONS REACHED LIMIT.\n",
      "\n",
      "Increase the number of iterations (max_iter) or scale the data as shown in:\n",
      "    https:\/\/scikit-learn.org\/stable\/modules\/preprocessing.html\n",
      "Please also refer to the documentation for alternative solver options:\n",
      "    https:\/\/scikit-learn.org\/stable\/modules\/linear_model.html#logistic-regression\n",
      "  n_iter_i = _check_optimize_result(\n",
      "\/opt\/anaconda3\/lib\/python3.9\/site-packages\/sklearn\/linear_model\/_logistic.py:444: ConvergenceWarning: lbfgs failed to converge (status=1):\n",
      "STOP: TOTAL NO. of ITERATIONS REACHED LIMIT.\n",
      "\n",
      "Increase the number of iterations (max_iter) or scale the data as shown in:\n",
      "    https:\/\/scikit-learn.org\/stable\/modules\/preprocessing.html\n",
      "Please also refer to the documentation for alternative solver options:\n",
      "    https:\/\/scikit-learn.org\/stable\/modules\/linear_model.html#logistic-regression\n",
      "  n_iter_i = _check_optimize_result(\n",
      "\/opt\/anaconda3\/lib\/python3.9\/site-packages\/sklearn\/linear_model\/_logistic.py:444: ConvergenceWarning: lbfgs failed to converge (status=1):\n",
      "STOP: TOTAL NO. of ITERATIONS REACHED LIMIT.\n",
      "\n",
      "Increase the number of iterations (max_iter) or scale the data as shown in:\n",
      "    https:\/\/scikit-learn.org\/stable\/modules\/preprocessing.html\n",
      "Please also refer to the documentation for alternative solver options:\n",
      "    https:\/\/scikit-learn.org\/stable\/modules\/linear_model.html#logistic-regression\n",
      "  n_iter_i = _check_optimize_result(\n",
      "\/opt\/anaconda3\/lib\/python3.9\/site-packages\/sklearn\/linear_model\/_logistic.py:444: ConvergenceWarning: lbfgs failed to converge (status=1):\n",
      "STOP: TOTAL NO. of ITERATIONS REACHED LIMIT.\n",
      "\n",
      "Increase the number of iterations (max_iter) or scale the data as shown in:\n",
      "    https:\/\/scikit-learn.org\/stable\/modules\/preprocessing.html\n",
      "Please also refer to the documentation for alternative solver options:\n",
      "    https:\/\/scikit-learn.org\/stable\/modules\/linear_model.html#logistic-regression\n",
      "  n_iter_i = _check_optimize_result(\n",
      "\/opt\/anaconda3\/lib\/python3.9\/site-packages\/sklearn\/linear_model\/_logistic.py:444: ConvergenceWarning: lbfgs failed to converge (status=1):\n",
      "STOP: TOTAL NO. of ITERATIONS REACHED LIMIT.\n",
      "\n",
      "Increase the number of iterations (max_iter) or scale the data as shown in:\n",
      "    https:\/\/scikit-learn.org\/stable\/modules\/preprocessing.html\n",
      "Please also refer to the documentation for alternative solver options:\n",
      "    https:\/\/scikit-learn.org\/stable\/modules\/linear_model.html#logistic-regression\n",
      "  n_iter_i = _check_optimize_result(\n",
      "\/opt\/anaconda3\/lib\/python3.9\/site-packages\/sklearn\/linear_model\/_logistic.py:444: ConvergenceWarning: lbfgs failed to converge (status=1):\n",
      "STOP: TOTAL NO. of ITERATIONS REACHED LIMIT.\n",
      "\n",
      "Increase the number of iterations (max_iter) or scale the data as shown in:\n",
      "    https:\/\/scikit-learn.org\/stable\/modules\/preprocessing.html\n",
      "Please also refer to the documentation for alternative solver options:\n",
      "    https:\/\/scikit-learn.org\/stable\/modules\/linear_model.html#logistic-regression\n",
      "  n_iter_i = _check_optimize_result(\n",
      "\/opt\/anaconda3\/lib\/python3.9\/site-packages\/sklearn\/linear_model\/_logistic.py:444: ConvergenceWarning: lbfgs failed to converge (status=1):\n",
      "STOP: TOTAL NO. of ITERATIONS REACHED LIMIT.\n",
      "\n",
      "Increase the number of iterations (max_iter) or scale the data as shown in:\n",
      "    https:\/\/scikit-learn.org\/stable\/modules\/preprocessing.html\n",
      "Please also refer to the documentation for alternative solver options:\n",
      "    https:\/\/scikit-learn.org\/stable\/modules\/linear_model.html#logistic-regression\n",
      "  n_iter_i = _check_optimize_result(\n",
      "\/opt\/anaconda3\/lib\/python3.9\/site-packages\/sklearn\/linear_model\/_logistic.py:444: ConvergenceWarning: lbfgs failed to converge (status=1):\n",
      "STOP: TOTAL NO. of ITERATIONS REACHED LIMIT.\n",
      "\n",
      "Increase the number of iterations (max_iter) or scale the data as shown in:\n",
      "    https:\/\/scikit-learn.org\/stable\/modules\/preprocessing.html\n",
      "Please also refer to the documentation for alternative solver options:\n",
      "    https:\/\/scikit-learn.org\/stable\/modules\/linear_model.html#logistic-regression\n",
      "  n_iter_i = _check_optimize_result(\n",
      "\/opt\/anaconda3\/lib\/python3.9\/site-packages\/sklearn\/linear_model\/_logistic.py:444: ConvergenceWarning: lbfgs failed to converge (status=1):\n",
      "STOP: TOTAL NO. of ITERATIONS REACHED LIMIT.\n",
      "\n",
      "Increase the number of iterations (max_iter) or scale the data as shown in:\n",
      "    https:\/\/scikit-learn.org\/stable\/modules\/preprocessing.html\n",
      "Please also refer to the documentation for alternative solver options:\n",
      "    https:\/\/scikit-learn.org\/stable\/modules\/linear_model.html#logistic-regression\n",
      "  n_iter_i = _check_optimize_result(\n",
      "\/opt\/anaconda3\/lib\/python3.9\/site-packages\/sklearn\/linear_model\/_logistic.py:444: ConvergenceWarning: lbfgs failed to converge (status=1):\n",
      "STOP: TOTAL NO. of ITERATIONS REACHED LIMIT.\n",
      "\n",
      "Increase the number of iterations (max_iter) or scale the data as shown in:\n",
      "    https:\/\/scikit-learn.org\/stable\/modules\/preprocessing.html\n",
      "Please also refer to the documentation for alternative solver options:\n",
      "    https:\/\/scikit-learn.org\/stable\/modules\/linear_model.html#logistic-regression\n",
      "  n_iter_i = _check_optimize_result(\n"
     ],
     "output_type":"stream"
    }
   ],
   "metadata":{
    "datalore":{
     "node_id":"x2aGofbaZCGctKQOSDSM91",
     "type":"CODE",
     "hide_input_from_viewers":false,
     "hide_output_from_viewers":false,
     "report_properties":{
      
     }
    }
   }
  },
  {
   "cell_type":"markdown",
   "source":[
    "## Feature selection"
   ],
   "attachments":{
    
   },
   "metadata":{
    "datalore":{
     "node_id":"yktJwDAaSKlRpew0oCVWet",
     "type":"MD",
     "hide_input_from_viewers":false,
     "hide_output_from_viewers":false,
     "report_properties":{
      
     }
    }
   }
  },
  {
   "cell_type":"code",
   "source":[
    "## call model\n",
    "rf = RandomForestClassifier(n_estimators = 100, random_state = 42)\n",
    "# fit model\n",
    "rf.fit(X_train, y_train)\n",
    "\n",
    "importances = rf.feature_importances_\n",
    "std = np.std([importances for tree in rf.estimators_], axis=0)\n",
    "indic = np.argsort(importances)\n",
    "plt.title('Feature Importances')\n",
    "plt.barh(range(len(indic)), importances[indic], color='b', align='center', yerr=std[indic])\n",
    "plt.yticks(range(len(indic)), [feature_names[i] for i in indic])\n",
    "plt.xlabel('Relative importance')\n",
    "plt.show()"
   ],
   "execution_count":null,
   "outputs":[
    {
     "data":{
      "image\/png":"[encoded data removed]"
     },
     "metadata":{
      "image\/png":{
       
      }
     },
     "output_type":"display_data"
    },
    {
     "data":{
      "text\/plain":[
       "<Figure size 432x288 with 1 Axes>"
      ]
     },
     "metadata":{
      
     },
     "output_type":"display_data"
    }
   ],
   "metadata":{
    "datalore":{
     "node_id":"QhBHrfJV7cbJxBMeqhg4kW",
     "type":"CODE",
     "hide_input_from_viewers":false,
     "hide_output_from_viewers":false,
     "report_properties":{
      
     }
    }
   }
  },
  {
   "cell_type":"code",
   "source":[
    "X_names = [\"LONGITUDE\", \"LATITUDE\", \"DISCOVERY_DOY\", \"Lightning\", \"FIRE_SIZE_CLASS_NUM\", \"tmp_monthly\",\n",
    "\"State\", \"pcp_monthly\", \"pdsi_monthly\", \"Campfire\"]\n",
    "mX = mX[X_names]\n",
    "\n",
    "# Create train-test set\n",
    "X_train, X_validation, Y_train, Y_validation = train_test_split(mX, vY, test_size=0.25, random_state=1)\n",
    "\n",
    "# reformat\n",
    "X_train = X_train.values\n",
    "y_train = Y_train.values.reshape(-1,)\n",
    "X_test = X_validation.values\n",
    "y_test = Y_validation.values"
   ],
   "execution_count":null,
   "outputs":[
    
   ],
   "metadata":{
    "datalore":{
     "node_id":"3fgtouBjhotYn5j4TfoqW1",
     "type":"CODE",
     "hide_input_from_viewers":false,
     "hide_output_from_viewers":false,
     "report_properties":{
      
     }
    }
   }
  },
  {
   "cell_type":"markdown",
   "source":[
    "### Gradient boosting"
   ],
   "attachments":{
    
   },
   "metadata":{
    "datalore":{
     "node_id":"7wSTgYWntdMZNIMbHZkAb3",
     "type":"MD",
     "hide_input_from_viewers":false,
     "hide_output_from_viewers":false,
     "report_properties":{
      
     }
    }
   }
  },
  {
   "cell_type":"code",
   "source":[
    "\n",
    "## call model\n",
    "model = ensemble.GradientBoostingClassifier()\n",
    "\n",
    "# Cross validatio\n",
    "cv = model_selection.StratifiedKFold(n_splits=5, shuffle=True)\n",
    "tprs, aucs = [], []\n",
    "mean_fpr = np.linspace(0,1,100)\n",
    "fig = plt.figure()\n",
    "i = 1\n",
    "for train, test in cv.split(X_train, y_train):\n",
    "   prediction = model.fit(X_train[train],\n",
    "                y_train[train]).predict_proba(X_train[test])\n",
    "   fpr, tpr, t = metrics.roc_curve(y_train[test], prediction[:, 1])\n",
    "   tprs.append(scipy.interp(mean_fpr, fpr, tpr))\n",
    "   roc_auc = metrics.auc(fpr, tpr)\n",
    "   aucs.append(roc_auc)\n",
    "   plt.plot(fpr, tpr, lw=2, alpha=0.3, label='ROC fold %d (AUC = %0.2f)' % (i, roc_auc))\n",
    "   i = i+1\n",
    "   \n",
    "plt.plot([0,1], [0,1], linestyle='--', lw=2, color='black')\n",
    "mean_tpr = np.mean(tprs, axis=0)\n",
    "mean_auc = metrics.auc(mean_fpr, mean_tpr)\n",
    "plt.plot(mean_fpr, mean_tpr, color='blue', label=r'Mean ROC (AUC = %0.2f )' % (mean_auc), lw=2, alpha=1)\n",
    "plt.xlabel('False Positive Rate')\n",
    "plt.ylabel('True Positive Rate')\n",
    "plt.title('K-Fold Validation')\n",
    "plt.legend(loc=\"lower right\")\n",
    "plt.show()"
   ],
   "execution_count":null,
   "outputs":[
    {
     "name":"stdout",
     "text":[
      "\n"
     ],
     "output_type":"stream"
    },
    {
     "name":"stderr",
     "text":[
      "\/var\/folders\/xn\/gg8ygwfs2gngfftz6t8k9wm80000gn\/T\/ipykernel_3519\/3643451384.py:10: DeprecationWarning:\n",
      "\n",
      "scipy.interp is deprecated and will be removed in SciPy 2.0.0, use numpy.interp instead\n",
      "\n",
      "\/var\/folders\/xn\/gg8ygwfs2gngfftz6t8k9wm80000gn\/T\/ipykernel_3519\/3643451384.py:10: DeprecationWarning:\n",
      "\n",
      "scipy.interp is deprecated and will be removed in SciPy 2.0.0, use numpy.interp instead\n",
      "\n",
      "\/var\/folders\/xn\/gg8ygwfs2gngfftz6t8k9wm80000gn\/T\/ipykernel_3519\/3643451384.py:10: DeprecationWarning:\n",
      "\n",
      "scipy.interp is deprecated and will be removed in SciPy 2.0.0, use numpy.interp instead\n",
      "\n",
      "\/var\/folders\/xn\/gg8ygwfs2gngfftz6t8k9wm80000gn\/T\/ipykernel_3519\/3643451384.py:10: DeprecationWarning:\n",
      "\n",
      "scipy.interp is deprecated and will be removed in SciPy 2.0.0, use numpy.interp instead\n",
      "\n",
      "\/var\/folders\/xn\/gg8ygwfs2gngfftz6t8k9wm80000gn\/T\/ipykernel_3519\/3643451384.py:10: DeprecationWarning:\n",
      "\n",
      "scipy.interp is deprecated and will be removed in SciPy 2.0.0, use numpy.interp instead\n",
      "\n",
      "\n"
     ],
     "output_type":"stream"
    },
    {
     "data":{
      "image\/png":"[encoded data removed]"
     },
     "metadata":{
      "image\/png":{
       
      }
     },
     "output_type":"display_data"
    },
    {
     "data":{
      "text\/plain":[
       "<Figure size 432x288 with 1 Axes>"
      ]
     },
     "metadata":{
      
     },
     "output_type":"display_data"
    }
   ],
   "metadata":{
    "datalore":{
     "node_id":"eDb7lexs3pHI23tIR3Z00u",
     "type":"CODE",
     "hide_input_from_viewers":false,
     "hide_output_from_viewers":false,
     "report_properties":{
      
     }
    }
   }
  },
  {
   "cell_type":"code",
   "source":[
    "\n",
    "model.fit(X_train, y_train)\n",
    "## test\n",
    "predicted_prob = model.predict_proba(X_test)[:,1]\n",
    "predicted = model.predict(X_test)"
   ],
   "execution_count":null,
   "outputs":[
    
   ],
   "metadata":{
    "datalore":{
     "node_id":"UrQuFvmKpQdvpVe4cVPpwe",
     "type":"CODE",
     "hide_input_from_viewers":false,
     "hide_output_from_viewers":false,
     "report_properties":{
      
     }
    }
   }
  },
  {
   "cell_type":"code",
   "source":[
    "## Accuray e AUC\n",
    "accuracy = metrics.accuracy_score(y_test, predicted)\n",
    "auc = metrics.roc_auc_score(y_test, predicted_prob)\n",
    "print(\"Accuracy (overall correct predictions):\",  round(accuracy,2))\n",
    "print(\"Auc:\", round(auc,2))\n",
    "    \n",
    "## Precision e Recall\n",
    "recall = metrics.recall_score(y_test, predicted)\n",
    "precision = metrics.precision_score(y_test, predicted)\n",
    "print(\"Recall (all 1s predicted right):\", round(recall,2))\n",
    "print(\"Precision (confidence when predicting a 1):\", round(precision,2))\n",
    "print(\"Detail:\")\n",
    "print(metrics.classification_report(y_test, predicted, target_names=[str(i) for i in np.unique(y_test)]))"
   ],
   "execution_count":null,
   "outputs":[
    {
     "name":"stdout",
     "text":[
      "Accuracy (overall correct predictions): 0.76\n",
      "Auc: 0.85\n",
      "Recall (all 1s predicted right): 0.78\n",
      "Precision (confidence when predicting a 1): 0.76\n",
      "Detail:\n",
      "              precision    recall  f1-score   support\n",
      "\n",
      "           0       0.77      0.75      0.76      1235\n",
      "           1       0.76      0.78      0.77      1265\n",
      "\n",
      "    accuracy                           0.76      2500\n",
      "   macro avg       0.76      0.76      0.76      2500\n",
      "weighted avg       0.76      0.76      0.76      2500\n",
      "\n"
     ],
     "output_type":"stream"
    }
   ],
   "metadata":{
    "datalore":{
     "node_id":"fZw27eH2dXnVvWffb0UWWR",
     "type":"CODE",
     "hide_input_from_viewers":false,
     "hide_output_from_viewers":false,
     "report_properties":{
      
     }
    }
   }
  },
  {
   "cell_type":"code",
   "source":[
    "classes = np.unique(y_test)\n",
    "fig, ax = plt.subplots()\n",
    "cm = metrics.confusion_matrix(y_test, predicted, labels=classes)\n",
    "sns.heatmap(cm, annot=True, fmt='d', cmap=plt.cm.Blues, cbar=False)\n",
    "ax.set(xlabel=\"Pred\", ylabel=\"True\", title=\"Confusion matrix\")\n",
    "ax.set_yticklabels(labels=classes, rotation=0)\n",
    "plt.show()"
   ],
   "execution_count":null,
   "outputs":[
    {
     "data":{
      "image\/png":"[encoded data removed]"
     },
     "metadata":{
      "image\/png":{
       
      }
     },
     "output_type":"display_data"
    },
    {
     "data":{
      "text\/plain":[
       "<Figure size 432x288 with 1 Axes>"
      ]
     },
     "metadata":{
      
     },
     "output_type":"display_data"
    }
   ],
   "metadata":{
    "datalore":{
     "node_id":"sD2JNrP7bKILDGa6bZ7cNp",
     "type":"CODE",
     "hide_input_from_viewers":false,
     "hide_output_from_viewers":false,
     "report_properties":{
      
     }
    }
   }
  },
  {
   "cell_type":"code",
   "source":[
    "classes = np.unique(y_test)\n",
    "fig, ax = plt.subplots(nrows=1, ncols=2)\n",
    "## plot ROC curve\n",
    "fpr, tpr, thresholds = metrics.roc_curve(y_test, predicted_prob)\n",
    "roc_auc = metrics.auc(fpr, tpr)     \n",
    "ax[0].plot(fpr, tpr, color='darkorange', lw=3, label='area = %0.2f' % roc_auc)\n",
    "ax[0].plot([0,1], [0,1], color='navy', lw=3, linestyle='--')\n",
    "ax[0].hlines(y=recall, xmin=0, xmax=1-cm[0,0]\/(cm[0,0]+cm[0,1]), color='red', linestyle='--', alpha=0.7, label=\"chosen threshold\")\n",
    "ax[0].vlines(x=1-cm[0,0]\/(cm[0,0]+cm[0,1]), ymin=0, ymax=recall, color='red', linestyle='--', alpha=0.7)\n",
    "ax[0].set(xlabel='False Positive Rate', ylabel=\"True Positive Rate (Recall)\", title=\"Receiver operating characteristic\")     \n",
    "ax.legend(loc=\"lower right\")\n",
    "ax.grid(True)\n",
    "## annotate ROC thresholds\n",
    "thres_in_plot = []\n",
    "for i,t in enumerate(thresholds):\n",
    "     t = np.round(t,1)\n",
    "     if t not in thres_in_plot:\n",
    "         ax.annotate(t, xy=(fpr[i],tpr[i]), xytext=(fpr[i],tpr[i]), \n",
    "              textcoords='offset points', ha='left', va='bottom')\n",
    "         thres_in_plot.append(t)\n",
    "     else:\n",
    "         next\n",
    "## plot P-R curve\n",
    "precisions, recalls, thresholds = metrics.precision_recall_curve(y_test, predicted_prob)\n",
    "roc_auc = metrics.auc(recalls, precisions)\n",
    "ax[1].plot(recalls, precisions, color='darkorange', lw=3, label='area = %0.2f' % roc_auc)\n",
    "ax[1].plot([0,1], [(cm[1,0]+cm[1,0])\/len(y_test), (cm[1,0]+cm[1,0])\/len(y_test)], linestyle='--', color='navy', lw=3)\n",
    "ax[1].hlines(y=precision, xmin=0, xmax=recall, color='red', linestyle='--', alpha=0.7, label=\"chosen threshold\")\n",
    "ax[1].vlines(x=recall, ymin=0, ymax=precision, color='red', linestyle='--', alpha=0.7)\n",
    "ax[1].set(xlabel='Recall', ylabel=\"Precision\", title=\"Precision-Recall curve\")\n",
    "ax[1].legend(loc=\"lower left\")\n",
    "ax[1].grid(True)\n",
    "## annotate P-R thresholds\n",
    "thres_in_plot = []\n",
    "for i,t in enumerate(thresholds):\n",
    "    t = np.round(t,1)\n",
    "    if t not in thres_in_plot:\n",
    "         ax.annotate(np.round(t,1), xy=(recalls[i],precisions[i]), \n",
    "               xytext=(recalls[i],precisions[i]), \n",
    "               textcoords='offset points', ha='left', va='bottom')\n",
    "         thres_in_plot.append(t)\n",
    "    else:\n",
    "         next\n",
    "plt.show()"
   ],
   "execution_count":null,
   "outputs":[
    {
     "name":"stdout",
     "text":[
      "\n"
     ],
     "output_type":"stream"
    },
    {
     "name":"stderr",
     "text":[
      "\n"
     ],
     "output_type":"stream"
    },
    {
     "ename":"AttributeError",
     "evalue":"AttributeError: 'numpy.ndarray' object has no attribute 'legend'",
     "traceback":[
      "\u001b[0;31m---------------------------------------------------------------------------",
      "Traceback (most recent call last)",
      "AttributeError: 'numpy.ndarray' object has no attribute 'legend'"
     ],
     "output_type":"error"
    },
    {
     "data":{
      "image\/png":"[encoded data removed]"
     },
     "metadata":{
      "image\/png":{
       
      }
     },
     "output_type":"display_data"
    },
    {
     "data":{
      "text\/plain":[
       "<Figure size 432x288 with 2 Axes>"
      ]
     },
     "metadata":{
      
     },
     "output_type":"display_data"
    }
   ],
   "metadata":{
    "datalore":{
     "node_id":"GUnkDGYoKfNa6wAPxhlkj4",
     "type":"CODE",
     "hide_input_from_viewers":false,
     "hide_output_from_viewers":false,
     "report_properties":{
      
     }
    }
   }
  },
  {
   "cell_type":"code",
   "source":[
    
   ],
   "execution_count":null,
   "outputs":[
    
   ],
   "metadata":{
    "datalore":{
     "node_id":"8zXKZc0SPYsjwvERqXhwkD",
     "type":"CODE",
     "hide_input_from_viewers":false,
     "hide_output_from_viewers":false,
     "report_properties":{
      
     }
    }
   }
  }
 ],
 "metadata":{
  "kernelspec":{
   "display_name":"Python",
   "language":"python",
   "name":"python"
  },
  "datalore":{
   "version":1,
   "computation_mode":"JUPYTER",
   "package_manager":"pip",
   "base_environment":"default",
   "packages":[
    
   ]
  }
 },
 "nbformat":4,
 "nbformat_minor":4
}